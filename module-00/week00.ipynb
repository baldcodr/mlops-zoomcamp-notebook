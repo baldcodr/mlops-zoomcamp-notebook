{
 "cells": [
  {
   "cell_type": "code",
   "execution_count": 153,
   "id": "97f03ed1",
   "metadata": {},
   "outputs": [],
   "source": [
    "import pandas as pd\n",
    "import seaborn as sns\n",
    "import matplotlib.pyplot as plt  "
   ]
  },
  {
   "cell_type": "code",
   "execution_count": 154,
   "id": "d8a236a1",
   "metadata": {},
   "outputs": [],
   "source": [
    "def read_dataframe(filename):\n",
    "    df = pd.read_parquet(filename)\n",
    "    #çompute trip duration in minutes\n",
    "    df[\"duration_in_mins\"] = df.lpep_dropoff_datetime - df.lpep_pickup_datetime\n",
    "    df.duration_in_mins = df.duration_in_mins.apply(lambda td: td.total_seconds()/60)\n",
    "\n",
    "    #Select all trips less than 60\n",
    "    df = df[(df.duration_in_mins>=1) & (df.duration_in_mins <=60)]\n",
    "\n",
    "    #Extract the most useful categorical and numerical variables from our dataset\n",
    "    categorical = ['PULocationID','DOLocationID']\n",
    "\n",
    "    #Convert numerical variables to categorical variables\n",
    "    df[categorical] = df[categorical].astype(str)\n",
    "    \n",
    "    return df"
   ]
  },
  {
   "cell_type": "code",
   "execution_count": 155,
   "id": "0d6646c4",
   "metadata": {},
   "outputs": [
    {
     "data": {
      "text/plain": [
       "((59603, 21), (66097, 21))"
      ]
     },
     "execution_count": 155,
     "metadata": {},
     "output_type": "execute_result"
    }
   ],
   "source": [
    "df_train = read_dataframe(\"./data/green_tripdata_2022-01.parquet\")\n",
    "df_val = read_dataframe(\"./data/green_tripdata_2022-02.parquet\")\n",
    "df_train.shape, df_validation.shape"
   ]
  },
  {
   "cell_type": "code",
   "execution_count": 156,
   "id": "cfeb0ffc",
   "metadata": {},
   "outputs": [
    {
     "data": {
      "text/plain": [
       "<seaborn.axisgrid.FacetGrid at 0x7f00faf44100>"
      ]
     },
     "execution_count": 156,
     "metadata": {},
     "output_type": "execute_result"
    },
    {
     "data": {
      "image/png": "[encoded data removed]",
      "text/plain": [
       "<Figure size 413.75x360 with 1 Axes>"
      ]
     },
     "metadata": {
      "needs_background": "light"
     },
     "output_type": "display_data"
    }
   ],
   "source": [
    "#Visualize trips less than 60\n",
    "ldf = df_train\n",
    "ldf = ldf[(ldf.duration_in_mins>=1) & (ldf.duration_in_mins <=60)]\n",
    "sns.displot(data =  ldf, x = \"duration_in_mins\", hue=\"VendorID\")"
   ]
  },
  {
   "cell_type": "code",
   "execution_count": 157,
   "id": "736c1f9a",
   "metadata": {},
   "outputs": [],
   "source": [
    "from sklearn.feature_extraction import DictVectorizer\n",
    "from sklearn.linear_model import LinearRegression\n",
    "from sklearn.linear_model import Lasso\n",
    "from sklearn.linear_model import Ridge\n",
    "\n",
    "from sklearn.metrics import mean_squared_error\n",
    "import pickle"
   ]
  },
  {
   "cell_type": "code",
   "execution_count": 158,
   "id": "f1b13e96",
   "metadata": {},
   "outputs": [],
   "source": [
    "#combine the pickup and drop off location ids \n",
    "df_train['PU_DO'] = df_train['PULocationID'] + '_' + df_train['DOLocationID']\n",
    "df_val['PU_DO'] = df_val['PULocationID'] + '_' + df_val['DOLocationID']\n"
   ]
  },
  {
   "cell_type": "code",
   "execution_count": 159,
   "id": "607f335f",
   "metadata": {},
   "outputs": [],
   "source": [
    "#Extract the most useful categorical and numerical variables from our dataset\n",
    "# categorical = ['PULocationID','DOLocationID']\n",
    "categorical = ['PU_DO']\n",
    "numerical = ['trip_distance']\n",
    "\n",
    "#perform data vectorization\n",
    "dv = DictVectorizer()\n",
    "\n",
    "#Convert our selected features to dictionaries for our vectorizers to work\n",
    "train_dicts = df_train[categorical + numerical].to_dict(orient='records')\n",
    "X_train = dv.fit_transform(train_dicts)\n",
    "\n",
    "#Convert our selected features to dictionaries for our vectorizers to work\n",
    "val_dicts = df_train[categorical + numerical].to_dict(orient='records')\n",
    "X_val = dv.transform(val_dicts)"
   ]
  },
  {
   "cell_type": "code",
   "execution_count": 180,
   "id": "fa5c3e94",
   "metadata": {},
   "outputs": [],
   "source": [
    "target = 'duration_in_mins'\n",
    "y_train = df_train[target].values\n",
    "y_val = df_val[target].values"
   ]
  },
  {
   "cell_type": "code",
   "execution_count": 194,
   "id": "1f826cf9",
   "metadata": {},
   "outputs": [
    {
     "data": {
      "text/plain": [
       "4.9985053565382715"
      ]
     },
     "execution_count": 194,
     "metadata": {},
     "output_type": "execute_result"
    }
   ],
   "source": [
    "#Use Linear Regreassion as our baseline\n",
    "\n",
    "#train our model\n",
    "lr = LinearRegression()\n",
    "lr.fit(X_train, y_train)\n",
    "\n",
    "#model prediction\n",
    "y_pred = lr.predict(X_train)\n",
    "\n",
    "#evaluate our model\n",
    "mean_squared_error(y_train, y_pred, squared=False)"
   ]
  },
  {
   "cell_type": "code",
   "execution_count": 195,
   "id": "7f7ed327",
   "metadata": {},
   "outputs": [],
   "source": [
    "#save model for deployment\n",
    "\n",
    "with open('models/lin_reg.bin', 'wb') as m_out:\n",
    "    pickle.dump((dv,lr), m_out)"
   ]
  },
  {
   "cell_type": "code",
   "execution_count": 190,
   "id": "9af8f53a",
   "metadata": {},
   "outputs": [
    {
     "data": {
      "text/plain": [
       "9.43591924993184"
      ]
     },
     "execution_count": 190,
     "metadata": {},
     "output_type": "execute_result"
    }
   ],
   "source": [
    "#Ridge regression\n",
    "\n",
    "#train our model\n",
    "lr = Ridge(alpha=0.0005)\n",
    "lr.fit(X_train, y_train)\n",
    "\n",
    "#model prediction\n",
    "y_pred = lr.predict(X_train)\n",
    "\n",
    "#evaluate our model\n",
    "mean_squared_error(y_train, y_pred, squared=False)"
   ]
  },
  {
   "cell_type": "code",
   "execution_count": 192,
   "id": "c282463d",
   "metadata": {},
   "outputs": [
    {
     "data": {
      "text/plain": [
       "9.133775641798206"
      ]
     },
     "execution_count": 192,
     "metadata": {},
     "output_type": "execute_result"
    }
   ],
   "source": [
    "#Lasso regression\n",
    "\n",
    "#train our model\n",
    "lr = Lasso(alpha=0.05)\n",
    "lr.fit(X_train, y_train)\n",
    "\n",
    "#model prediction\n",
    "y_pred = lr.predict(X_train)\n",
    "\n",
    "#evaluate our model\n",
    "mean_squared_error(y_train, y_pred, squared=False)"
   ]
  },
  {
   "cell_type": "code",
   "execution_count": 164,
   "id": "c9a171f0",
   "metadata": {},
   "outputs": [],
   "source": [
    "# dv.feature_names_"
   ]
  },
  {
   "cell_type": "code",
   "execution_count": null,
   "id": "f340a1e7",
   "metadata": {},
   "outputs": [],
   "source": []
  },
  {
   "cell_type": "code",
   "execution_count": null,
   "id": "8a91bba9",
   "metadata": {},
   "outputs": [],
   "source": []
  },
  {
   "cell_type": "code",
   "execution_count": null,
   "id": "073367b4",
   "metadata": {},
   "outputs": [],
   "source": []
  },
  {
   "cell_type": "code",
   "execution_count": 165,
   "id": "b4df87b7",
   "metadata": {},
   "outputs": [
    {
     "name": "stderr",
     "output_type": "stream",
     "text": [
      "/home/ubuntu/anaconda3/lib/python3.9/site-packages/seaborn/distributions.py:2619: FutureWarning: `distplot` is a deprecated function and will be removed in a future version. Please adapt your code to use either `displot` (a figure-level function with similar flexibility) or `histplot` (an axes-level function for histograms).\n",
      "  warnings.warn(msg, FutureWarning)\n",
      "/home/ubuntu/anaconda3/lib/python3.9/site-packages/seaborn/distributions.py:2619: FutureWarning: `distplot` is a deprecated function and will be removed in a future version. Please adapt your code to use either `displot` (a figure-level function with similar flexibility) or `histplot` (an axes-level function for histograms).\n",
      "  warnings.warn(msg, FutureWarning)\n"
     ]
    },
    {
     "data": {
      "text/plain": [
       "<matplotlib.legend.Legend at 0x7f00fe7afac0>"
      ]
     },
     "execution_count": 165,
     "metadata": {},
     "output_type": "execute_result"
    },
    {
     "data": {
      "image/png": "[encoded data removed]",
      "text/plain": [
       "<Figure size 432x288 with 1 Axes>"
      ]
     },
     "metadata": {
      "needs_background": "light"
     },
     "output_type": "display_data"
    }
   ],
   "source": [
    "sns.distplot(y_pred, label='prediction')\n",
    "sns.distplot(y_train, label='actual')\n",
    "\n",
    "plt.legend()"
   ]
  },
  {
   "cell_type": "code",
   "execution_count": null,
   "id": "6453fd3d",
   "metadata": {},
   "outputs": [],
   "source": []
  },
  {
   "cell_type": "code",
   "execution_count": null,
   "id": "82f39e32",
   "metadata": {},
   "outputs": [],
   "source": []
  }
 ],
 "metadata": {
  "kernelspec": {
   "display_name": "Python 3 (ipykernel)",
   "language": "python",
   "name": "python3"
  },
  "language_info": {
   "codemirror_mode": {
    "name": "ipython",
    "version": 3
   },
   "file_extension": ".py",
   "mimetype": "text/x-python",
   "name": "python",
   "nbconvert_exporter": "python",
   "pygments_lexer": "ipython3",
   "version": "3.9.12"
  }
 },
 "nbformat": 4,
 "nbformat_minor": 5
}
